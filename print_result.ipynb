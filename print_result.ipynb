{
 "cells": [
  {
   "cell_type": "code",
   "execution_count": 2,
   "metadata": {},
   "outputs": [],
   "source": [
    "from globalVariable.global_variable import *"
   ]
  },
  {
   "cell_type": "code",
   "execution_count": 4,
   "metadata": {},
   "outputs": [
    {
     "ename": "FileNotFoundError",
     "evalue": "[Errno 2] No such file or directory: 'model\\\\result_poisoned.pk1'",
     "output_type": "error",
     "traceback": [
      "\u001b[1;31m---------------------------------------------------------------------------\u001b[0m",
      "\u001b[1;31mFileNotFoundError\u001b[0m                         Traceback (most recent call last)",
      "\u001b[1;32mc:\\Users\\Giuli\\Documents\\tesi\\federeted_new\\print_result.ipynb Cell 2'\u001b[0m in \u001b[0;36m<module>\u001b[1;34m\u001b[0m\n\u001b[1;32m----> <a href='vscode-notebook-cell:/c%3A/Users/Giuli/Documents/tesi/federeted_new/print_result.ipynb#ch0000001?line=0'>1</a>\u001b[0m history_fede \u001b[39m=\u001b[39m  pickle\u001b[39m.\u001b[39mload(\u001b[39mopen\u001b[39;49m(\u001b[39mr\u001b[39;49m\u001b[39m'\u001b[39;49m\u001b[39mmodel\u001b[39;49m\u001b[39m\\\u001b[39;49m\u001b[39mresult_poisoned.pk1\u001b[39;49m\u001b[39m'\u001b[39;49m, \u001b[39m'\u001b[39;49m\u001b[39mrb\u001b[39;49m\u001b[39m'\u001b[39;49m))\n\u001b[0;32m      <a href='vscode-notebook-cell:/c%3A/Users/Giuli/Documents/tesi/federeted_new/print_result.ipynb#ch0000001?line=4'>5</a>\u001b[0m fig, ax \u001b[39m=\u001b[39m plt\u001b[39m.\u001b[39msubplots(nrows\u001b[39m=\u001b[39m\u001b[39m1\u001b[39m, ncols\u001b[39m=\u001b[39m\u001b[39m3\u001b[39m,figsize\u001b[39m=\u001b[39m(\u001b[39m20\u001b[39m,\u001b[39m10\u001b[39m))\n\u001b[0;32m      <a href='vscode-notebook-cell:/c%3A/Users/Giuli/Documents/tesi/federeted_new/print_result.ipynb#ch0000001?line=5'>6</a>\u001b[0m ax[\u001b[39m0\u001b[39m]\u001b[39m.\u001b[39mplot(\u001b[39m*\u001b[39m\u001b[39mzip\u001b[39m(\u001b[39m*\u001b[39mhistory_fede\u001b[39m.\u001b[39mlosses_distributed))\n",
      "\u001b[1;31mFileNotFoundError\u001b[0m: [Errno 2] No such file or directory: 'model\\\\result_poisoned.pk1'"
     ]
    }
   ],
   "source": [
    "history_fede =  pickle.load(open(r'model\\result_poisoned.pk1', 'rb'))\n",
    "\n",
    "\n",
    "\n",
    "fig, ax = plt.subplots(nrows=1, ncols=3,figsize=(20,10))\n",
    "ax[0].plot(*zip(*history_fede.losses_distributed))\n",
    "ax[1].plot(*zip(*history_fede.metrics_distributed['top_k']))\n",
    "ax[2].plot(*zip(*history_fede.metrics_distributed['accuracy']))\n",
    "ax[0].set_title('model loss')\n",
    "ax[1].set_title('model top3')\n",
    "ax[2].set_title('model accuracy')\n",
    "ax[0].set_ylabel('loss')\n",
    "ax[0].set_xlabel('round')\n",
    "ax[1].set_ylabel('top3')\n",
    "ax[1].set_xlabel('round')\n",
    "ax[2].set_ylabel('accuracy')\n",
    "ax[2].set_xlabel('round')\n",
    "\n",
    "plt.show()\n",
    "history_fede =  pickle.load(open(r'model\\result.pk1', 'rb'))\n",
    "\n",
    "\n",
    "\n",
    "fig, ax = plt.subplots(nrows=1, ncols=3,figsize=(20,10))\n",
    "ax[0].plot(*zip(*history_fede.losses_distributed))\n",
    "ax[1].plot(*zip(*history_fede.metrics_distributed['top_k']))\n",
    "ax[2].plot(*zip(*history_fede.metrics_distributed['accuracy']))\n",
    "ax[0].set_title('model loss')\n",
    "ax[1].set_title('model top3')\n",
    "ax[2].set_title('model accuracy')\n",
    "ax[0].set_ylabel('loss')\n",
    "ax[0].set_xlabel('round')\n",
    "ax[1].set_ylabel('top3')\n",
    "ax[1].set_xlabel('round')\n",
    "ax[2].set_ylabel('accuracy')\n",
    "ax[2].set_xlabel('round')\n",
    "\n",
    "plt.show()"
   ]
  },
  {
   "cell_type": "code",
   "execution_count": 3,
   "metadata": {},
   "outputs": [
    {
     "data": {
      "text/plain": [
       "{'1-7': {'agent': '7', 'distance': -0.026896342635154724},\n",
       " '3-7': {'agent': '7', 'distance': -0.040361300110816956},\n",
       " '5-7': {'agent': '7', 'distance': -0.02558678388595581},\n",
       " '29-7': {'agent': '7', 'distance': -0.02162453532218933}}"
      ]
     },
     "execution_count": 3,
     "metadata": {},
     "output_type": "execute_result"
    }
   ],
   "source": [
    "pickle.load(open(r'globalVariable\\accuracy_checking.pk1', 'rb'))"
   ]
  },
  {
   "cell_type": "code",
   "execution_count": 4,
   "metadata": {},
   "outputs": [
    {
     "data": {
      "text/plain": [
       "{}"
      ]
     },
     "execution_count": 4,
     "metadata": {},
     "output_type": "execute_result"
    },
    {
     "ename": "",
     "evalue": "",
     "output_type": "error",
     "traceback": [
      "\u001b[1;31mThe Kernel crashed while executing code in the the current cell or a previous cell. Please review the code in the cell(s) to identify a possible cause of the failure. Click <a href='https://aka.ms/vscodeJupyterKernelCrash'>here</a> for more info. View Jupyter <a href='command:jupyter.viewOutput'>log</a> for further details."
     ]
    }
   ],
   "source": [
    "pickle.load(open(r'globalVariable\\Weight_update_statistics.pk1', 'rb'))"
   ]
  }
 ],
 "metadata": {
  "kernelspec": {
   "display_name": "Python 3.9.13 64-bit (windows store)",
   "language": "python",
   "name": "python3"
  },
  "language_info": {
   "codemirror_mode": {
    "name": "ipython",
    "version": 3
   },
   "file_extension": ".py",
   "mimetype": "text/x-python",
   "name": "python",
   "nbconvert_exporter": "python",
   "pygments_lexer": "ipython3",
   "version": "3.9.13"
  },
  "orig_nbformat": 4,
  "vscode": {
   "interpreter": {
    "hash": "d52810c3f7e93c00ba2a097f8f5571973362d1c009c29f7e0d4a883f26d38267"
   }
  }
 },
 "nbformat": 4,
 "nbformat_minor": 2
}
