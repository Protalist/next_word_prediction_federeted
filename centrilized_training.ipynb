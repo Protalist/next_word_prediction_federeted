{
  "cells": [
    {
      "cell_type": "markdown",
      "metadata": {
        "id": "uQIH4mPmh9Tw"
      },
      "source": [
        "#Utilities"
      ]
    },
    {
      "cell_type": "code",
      "execution_count": 1,
      "metadata": {},
      "outputs": [],
      "source": [
        "from globalVariable.global_variable import *"
      ]
    },
    {
      "cell_type": "markdown",
      "metadata": {
        "id": "l9HoO41UMv2_"
      },
      "source": [
        "## Import"
      ]
    },
    {
      "cell_type": "code",
      "execution_count": 2,
      "metadata": {
        "id": "UvYuM7w4rbSn"
      },
      "outputs": [
        {
          "data": {
            "text/plain": [
              "'import tensorflow as tf\\nfrom tensorflow.keras.layers import Layer, Embedding, LSTM,GRU, Dense,Bidirectional,Dropout,Activation, Input\\nfrom tensorflow.keras.models import Sequential\\nfrom tensorflow.keras.optimizers import Adam,RMSprop\\nfrom tensorflow.keras.preprocessing.text import Tokenizer\\nfrom tensorflow.keras import backend as K\\n\\nimport string\\nimport pickle\\nimport numpy as np\\nimport os\\nimport math\\n\\nimport matplotlib.pyplot as plt\\nimport nltk\\n\\nfrom attention import Attention\\nimport string\\n'"
            ]
          },
          "execution_count": 2,
          "metadata": {},
          "output_type": "execute_result"
        }
      ],
      "source": [
        "\"\"\"import tensorflow as tf\n",
        "from tensorflow.keras.layers import Layer, Embedding, LSTM,GRU, Dense,Bidirectional,Dropout,Activation, Input\n",
        "from tensorflow.keras.models import Sequential\n",
        "from tensorflow.keras.optimizers import Adam,RMSprop\n",
        "from tensorflow.keras.preprocessing.text import Tokenizer\n",
        "from tensorflow.keras import backend as K\n",
        "\n",
        "import string\n",
        "import pickle\n",
        "import numpy as np\n",
        "import os\n",
        "import math\n",
        "\n",
        "import matplotlib.pyplot as plt\n",
        "import nltk\n",
        "\n",
        "from attention import Attention\n",
        "import string\n",
        "\"\"\""
      ]
    },
    {
      "cell_type": "code",
      "execution_count": 3,
      "metadata": {
        "colab": {
          "base_uri": "https://localhost:8080/",
          "height": 1000
        },
        "id": "XXSTGPmyIyGR",
        "outputId": "e99106b7-08a9-4371-eb92-e4640c018cf7"
      },
      "outputs": [],
      "source": [
        "#@title Install flower simulation\n",
        "#!pip install flwr[\"simulation\"]==0.18.0 "
      ]
    },
    {
      "cell_type": "markdown",
      "metadata": {
        "id": "11V_t7zHNCDL"
      },
      "source": [
        "## Global Variable "
      ]
    },
    {
      "cell_type": "code",
      "execution_count": 4,
      "metadata": {
        "id": "T6LY6wEOiSV8"
      },
      "outputs": [],
      "source": [
        "#@title Example form fields\n",
        "#@markdown Forms support many types of fields.\n",
        "dir = True  #@param {type: \"boolean\"}\n",
        "make_test = False #@param {type: \"boolean\"}\n",
        "shuffle_line = True  #@param {type: \"boolean\"}\n",
        "percentage_of_line = 1 #@param {type:\"slider\", min:0, max:1, step:0.01}\n",
        "path = r\"dataset\\en_US\\short\\short_tweet.txt\"  #r\"C:\\Users\\Giuli\\Documents\\tesi\\federeted\\dataset\\book\"  #@param ['/content/drive/MyDrive/Colab Notebooks/tesi/next_word_prediction/dataset/en/en_US.twitter.txt', '/content/drive/MyDrive/Colab Notebooks/tesi/next_word_prediction/dataset/The_Adventures_of_Sherlock_Holmes.txt', '/content/drive/MyDrive/Colab Notebooks/tesi/next_word_prediction/dataset', 'thursday']\n",
        "token_path=\"/content/drive/MyDrive/Colab Notebooks/tesi/next_word_prediction/tokenization/tokenizer1.pkl\"\n",
        "checkpoint_path=\"/content/drive/MyDrive/Colab Notebooks/tesi/next_word_prediction/saved_model/nextword1.h5\"\n",
        "\n",
        "emending_length=50  #@param {type: \"integer\"}\n",
        "\n",
        "lengt_sequence=3 #@param {type:\"slider\", min:1, max:10, step:1}\n",
        "NUM_CLIENTS = 162 #@param {type:\"slider\", min:0, max:200, step:1}"
      ]
    },
    {
      "cell_type": "code",
      "execution_count": 5,
      "metadata": {},
      "outputs": [],
      "source": [
        "gpus = tf.config.experimental.list_physical_devices('GPU')\n",
        "for gpu in gpus:\n",
        "    tf.config.experimental.set_memory_growth(gpu, True)"
      ]
    },
    {
      "cell_type": "markdown",
      "metadata": {
        "id": "kUCAF1ipNIXn"
      },
      "source": [
        "## Function"
      ]
    },
    {
      "cell_type": "code",
      "execution_count": 6,
      "metadata": {
        "id": "0gKrjiNXMyxV"
      },
      "outputs": [],
      "source": [
        "@tf.autograph.experimental.do_not_convert\n",
        "def perplexity(y_true, y_pred):\n",
        "    \"\"\"\n",
        "    The perplexity metric. Why isn't this part of Keras yet?!\n",
        "\n",
        "    BTW doesn't really work.\n",
        "    \"\"\"\n",
        "    cross_entropy = tf.keras.backend.categorical_crossentropy(y_true, y_pred)\n",
        "    perplexity = tf.keras.backend.pow(2.0, cross_entropy)\n",
        "    return perplexity\n",
        "\n",
        "@tf.autograph.experimental.do_not_convert\n",
        "def crossentropy(y_true, y_pred):\n",
        "    return tf.keras.backend.categorical_crossentropy(y_true, y_pred)\n",
        "\n",
        "class attentions(Layer):\n",
        "    def init(self):\n",
        "        super(attentions,self).__init__()\n",
        "    def build(self,input_shape):\n",
        "        self.W=self.add_weight(name='att_weight',shape=(input_shape[-1],1),initializer=\"normal\")\n",
        "        self.b=self.add_weight(name='att_bias',shape=(input_shape[-2],1),initializer=\"zeros\")        \n",
        "        super(attentions, self).build(input_shape)\n",
        "    def call(self,x):\n",
        "        e = K.tanh(K.dot(x,self.W)+self.b)\n",
        "        a = K.softmax(e, axis=1)\n",
        "        output = x*a\n",
        "        return K.sum(output, axis=1)"
      ]
    },
    {
      "cell_type": "markdown",
      "metadata": {
        "id": "bgSBX3BONm7L"
      },
      "source": [
        "# Preprocessing"
      ]
    },
    {
      "cell_type": "markdown",
      "metadata": {
        "id": "yKImhO-XOGQQ"
      },
      "source": [
        "## Load File"
      ]
    },
    {
      "cell_type": "code",
      "execution_count": 7,
      "metadata": {
        "colab": {
          "base_uri": "https://localhost:8080/"
        },
        "id": "JKUuh-jXNMam",
        "outputId": "4e73ef2a-7a12-413a-f819-ea477e599f04"
      },
      "outputs": [
        {
          "name": "stdout",
          "output_type": "stream",
          "text": [
            "<_io.TextIOWrapper name='dataset\\\\en_US\\\\short\\\\short_tweet.txt' mode='r' encoding='utf8'>\n",
            "19923\n"
          ]
        }
      ],
      "source": [
        "lines=[]\n",
        "if dir:\n",
        "  with open(path, 'r', encoding = \"utf8\") as file:\n",
        "    print(file)\n",
        "    for i in file:\n",
        "      lines.append(i)\n",
        "    print(len(lines))\n",
        "else:\n",
        "  for filename in os.listdir(path):\n",
        "    if filename.endswith(\".txt\"):\n",
        "      print(filename)\n",
        "      with open(os.path.join(path, filename), 'r', encoding = \"utf8\") as file:\n",
        "        print(file)\n",
        "        for i in file:\n",
        "          lines.append(i)\n",
        "        print(len(lines))"
      ]
    },
    {
      "cell_type": "code",
      "execution_count": 8,
      "metadata": {},
      "outputs": [],
      "source": [
        "if shuffle_line:\n",
        "  import random\n",
        "  random.shuffle(lines)"
      ]
    },
    {
      "cell_type": "markdown",
      "metadata": {
        "id": "bE2_loQeOFic"
      },
      "source": [
        "### Print example"
      ]
    },
    {
      "cell_type": "code",
      "execution_count": 9,
      "metadata": {
        "colab": {
          "base_uri": "https://localhost:8080/"
        },
        "id": "UjnRFsBoODHX",
        "outputId": "1702b292-08f3-46e0-f9ce-3b1b2d3765eb"
      },
      "outputs": [
        {
          "name": "stdout",
          "output_type": "stream",
          "text": [
            "The First Line:  you're welcome and im somewhat new. never really used this before but am using it now\n",
            "\n",
            "The Last Line:  keep up the good work man..\n",
            "\n"
          ]
        }
      ],
      "source": [
        "print(\"The First Line: \", lines[1])\n",
        "print(\"The Last Line: \", lines[-1])"
      ]
    },
    {
      "cell_type": "markdown",
      "metadata": {
        "id": "ptkKn5YXOiGx"
      },
      "source": [
        "## Tokenization"
      ]
    },
    {
      "cell_type": "code",
      "execution_count": 10,
      "metadata": {
        "colab": {
          "base_uri": "https://localhost:8080/",
          "height": 106
        },
        "id": "TR_xdGvkORFN",
        "outputId": "ce3d9e34-e4e5-4b29-8f6c-bc0df6285520"
      },
      "outputs": [
        {
          "name": "stdout",
          "output_type": "stream",
          "text": [
            "count number of line: 19923\n"
          ]
        },
        {
          "data": {
            "text/plain": [
              "'lol i meant email    you re welcome and im somewhat new  never really used this before but am using it now freaks   thanks for having dinner w  me tonight    2 for 25 is enuf for 5 lol we will pack  china with an ad attached inside billions of i hear you got to work with my friend sabrina on that luggage show    i will follow back if you ask♥ dont lose your '"
            ]
          },
          "execution_count": 10,
          "metadata": {},
          "output_type": "execute_result"
        }
      ],
      "source": [
        "lines=lines[:int(len(lines)*percentage_of_line)]\n",
        "print(\"count number of line: \" + str(len(lines)) )\n",
        "data = ' '. join(lines)\n",
        "data=data.lower()\n",
        "data = data.replace('\\n', '').replace('\\r', '').replace('\\ufeff', '').replace(\"—£\",\"\").replace(\"œuvre\",\"\").replace(\"—\",\"\").replace('‘',\"\").replace('’',\"\").replace( '£',\"\").replace('“',\"\").replace('”',\"\")\n",
        "\n",
        "translator = str.maketrans(string.punctuation, ' '*len(string.punctuation)) #map punctuation to space\n",
        "\n",
        "data = data.translate(translator)\n",
        "\n",
        "data[:360]"
      ]
    },
    {
      "cell_type": "code",
      "execution_count": 11,
      "metadata": {
        "id": "9hqYniO4Vu_b"
      },
      "outputs": [],
      "source": [
        "tokens = nltk.wordpunct_tokenize(data)"
      ]
    },
    {
      "cell_type": "code",
      "execution_count": 12,
      "metadata": {
        "colab": {
          "base_uri": "https://localhost:8080/"
        },
        "id": "p4a3B50xWNJh",
        "outputId": "fdfcf969-1aa8-4901-8ac6-3d9af11c8610"
      },
      "outputs": [
        {
          "data": {
            "text/plain": [
              "['lol',\n",
              " 'i',\n",
              " 'meant',\n",
              " 'email',\n",
              " 'you',\n",
              " 're',\n",
              " 'welcome',\n",
              " 'and',\n",
              " 'im',\n",
              " 'somewhat',\n",
              " 'new',\n",
              " 'never',\n",
              " 'really',\n",
              " 'used',\n",
              " 'this']"
            ]
          },
          "execution_count": 12,
          "metadata": {},
          "output_type": "execute_result"
        }
      ],
      "source": [
        "tokens[:15]"
      ]
    },
    {
      "cell_type": "code",
      "execution_count": 13,
      "metadata": {
        "id": "YhnCXgmXV9XC"
      },
      "outputs": [],
      "source": [
        "words = [w.lower() for w in tokens]"
      ]
    },
    {
      "cell_type": "code",
      "execution_count": 14,
      "metadata": {
        "colab": {
          "base_uri": "https://localhost:8080/"
        },
        "id": "4u3ohYnoWAM-",
        "outputId": "5de0eb10-ef10-4430-90de-fef16ce8b0b7"
      },
      "outputs": [
        {
          "data": {
            "text/plain": [
              "['lol',\n",
              " 'i',\n",
              " 'meant',\n",
              " 'email',\n",
              " 'you',\n",
              " 're',\n",
              " 'welcome',\n",
              " 'and',\n",
              " 'im',\n",
              " 'somewhat',\n",
              " 'new',\n",
              " 'never',\n",
              " 'really',\n",
              " 'used',\n",
              " 'this']"
            ]
          },
          "execution_count": 14,
          "metadata": {},
          "output_type": "execute_result"
        }
      ],
      "source": [
        "words[:15]"
      ]
    },
    {
      "cell_type": "code",
      "execution_count": 15,
      "metadata": {
        "colab": {
          "base_uri": "https://localhost:8080/"
        },
        "id": "Be52DbJVWYx2",
        "outputId": "346e4433-c8e4-4004-c837-141a5dba2e2f"
      },
      "outputs": [
        {
          "data": {
            "text/plain": [
              "['😂😂👍👍',\n",
              " '😂😂😂',\n",
              " '😂😂😂👎',\n",
              " '😃',\n",
              " '😄',\n",
              " '😉',\n",
              " '😊',\n",
              " '😊☺😁',\n",
              " '😊❤',\n",
              " '😊😘',\n",
              " '😌',\n",
              " '😍',\n",
              " '😍😘💏💑💋💍',\n",
              " '😏',\n",
              " '😒',\n",
              " '😒👎',\n",
              " '😒😞😔',\n",
              " '😓',\n",
              " '😔',\n",
              " '😖😰💔💔',\n",
              " '😘',\n",
              " '😘😘😘',\n",
              " '😚',\n",
              " '😜',\n",
              " '😜😁',\n",
              " '😝💗👍',\n",
              " '😞',\n",
              " '😠',\n",
              " '😡',\n",
              " '😡🔥',\n",
              " '😡😁',\n",
              " '😡😡',\n",
              " '😢',\n",
              " '😢💔',\n",
              " '😣👎',\n",
              " '😣🔫',\n",
              " '😥',\n",
              " '😭💣🔫',\n",
              " '😭😭😭',\n",
              " '😭😭😭😭',\n",
              " '😭😭😭😭😭😭',\n",
              " '😰',\n",
              " '😱',\n",
              " '😲',\n",
              " '😳',\n",
              " '😳😷',\n",
              " '😷',\n",
              " '😷😨',\n",
              " '🙌',\n",
              " '🚭']"
            ]
          },
          "execution_count": 15,
          "metadata": {},
          "output_type": "execute_result"
        }
      ],
      "source": [
        "vocab = sorted(set(words))\n",
        "vocab_dict = dict() \n",
        "vocab_dic_reverse = dict()\n",
        "for index,value in enumerate(vocab):\n",
        "  vocab_dict[value] = index\n",
        "  vocab_dic_reverse[index] = value\n",
        "  \n",
        "list(vocab_dict)[-50:]"
      ]
    },
    {
      "cell_type": "code",
      "execution_count": 16,
      "metadata": {
        "colab": {
          "base_uri": "https://localhost:8080/",
          "height": 35
        },
        "id": "ZMMbO-bN5gyC",
        "outputId": "dd5f09a4-ed95-4bbb-95d8-3b8dca73cf95"
      },
      "outputs": [
        {
          "data": {
            "text/plain": [
              "'447'"
            ]
          },
          "execution_count": 16,
          "metadata": {},
          "output_type": "execute_result"
        }
      ],
      "source": [
        "vocab_dic_reverse[500] "
      ]
    },
    {
      "cell_type": "code",
      "execution_count": 17,
      "metadata": {
        "colab": {
          "base_uri": "https://localhost:8080/"
        },
        "id": "qLn6x4sKWbiE",
        "outputId": "3f638de2-0475-4ad0-fc73-07bb4c007907"
      },
      "outputs": [
        {
          "data": {
            "text/plain": [
              "22648"
            ]
          },
          "execution_count": 17,
          "metadata": {},
          "output_type": "execute_result"
        }
      ],
      "source": [
        "vocab_size=len(vocab_dict)\n",
        "vocab_size"
      ]
    },
    {
      "cell_type": "code",
      "execution_count": 18,
      "metadata": {
        "id": "owKh1IjrgCPJ"
      },
      "outputs": [],
      "source": [
        "def convert_int_text(prev,next,vocab_inv):\n",
        "  r = ''\n",
        "  for i in prev:\n",
        "    r = r + vocab_inv[i] + \" \"\n",
        "  r = r + vocab_inv[next]\n",
        "  return r"
      ]
    },
    {
      "cell_type": "markdown",
      "metadata": {
        "id": "z_lF9MbEYW0K"
      },
      "source": [
        "## Create sequence"
      ]
    },
    {
      "cell_type": "code",
      "execution_count": 19,
      "metadata": {
        "id": "wLYDLKNbYT4U"
      },
      "outputs": [],
      "source": [
        "X=[]\n",
        "y=[]\n",
        "sequences=[]\n",
        "for i in range(len(words)-lengt_sequence):\n",
        "  sequence = []\n",
        "  for j in range(lengt_sequence+1):\n",
        "    sequence.append(vocab_dict[words[i+j]])\n",
        "  sequences.append(sequence)\n",
        "\n",
        "np.random.shuffle(sequences)\n",
        "for sequence in sequences:\n",
        "  X.append(sequence[:-1])\n",
        "  y.append(sequence[-1])\n",
        "X = np.array(X)\n",
        "y = np.array(y)"
      ]
    },
    {
      "cell_type": "code",
      "execution_count": 20,
      "metadata": {
        "colab": {
          "base_uri": "https://localhost:8080/"
        },
        "id": "SNyEig7Et-cR",
        "outputId": "ff551740-33a8-4123-b31c-6565e2875ddb"
      },
      "outputs": [
        {
          "data": {
            "text/plain": [
              "260951"
            ]
          },
          "execution_count": 20,
          "metadata": {},
          "output_type": "execute_result"
        }
      ],
      "source": [
        "len(sequences)"
      ]
    },
    {
      "cell_type": "code",
      "execution_count": 21,
      "metadata": {
        "colab": {
          "base_uri": "https://localhost:8080/"
        },
        "id": "4DwNx386feqF",
        "outputId": "9f74e257-7ec8-442b-b385-9e1cb83744c9"
      },
      "outputs": [
        {
          "name": "stdout",
          "output_type": "stream",
          "text": [
            "[11737  9105 13385] => 8198\n",
            "lie haha my friend\n"
          ]
        }
      ],
      "source": [
        "print(X[0], end=' => ')\n",
        "print(y[0])\n",
        "print(convert_int_text(X[0],y[0],vocab_dic_reverse))"
      ]
    },
    {
      "cell_type": "markdown",
      "metadata": {
        "id": "4Te-UlE0PluG"
      },
      "source": [
        "# Model"
      ]
    },
    {
      "cell_type": "code",
      "execution_count": 22,
      "metadata": {
        "colab": {
          "base_uri": "https://localhost:8080/"
        },
        "id": "ADJ5DcW2tyqS",
        "outputId": "d6c4d93f-8f53-49f8-913a-99af963d6fb5"
      },
      "outputs": [
        {
          "name": "stdout",
          "output_type": "stream",
          "text": [
            "Loaded 400000 word vectors.\n"
          ]
        }
      ],
      "source": [
        "embeddings_index = dict()\n",
        "f = open(r\"C:\\Users\\Giuli\\Documents\\tesi\\federeted\\embended\\glove.6B.50d.txt\", encoding=\"utf8\")\n",
        "\n",
        "for line in f:\n",
        "    values = line.split()\n",
        "    word = values[0]\n",
        "    coefs = np.asarray(values[1:], dtype='float32')\n",
        "    embeddings_index[word] = coefs\n",
        "\n",
        "f.close()\n",
        "print('Loaded %s word vectors.' % len(embeddings_index))"
      ]
    },
    {
      "cell_type": "code",
      "execution_count": 23,
      "metadata": {
        "id": "vO8gYNAGtz25"
      },
      "outputs": [],
      "source": [
        "\n",
        "embedding_matrix = np.zeros((vocab_size, emending_length))\n",
        "\n",
        "for i, word in enumerate(list(vocab_dict)):\n",
        "    embedding_vector = embeddings_index.get(word)\n",
        "    if embedding_vector is not None:\n",
        "        embedding_matrix[i] = embedding_vector"
      ]
    },
    {
      "cell_type": "markdown",
      "metadata": {
        "id": "GMmyUjzQPnr6"
      },
      "source": [
        "## Sequential"
      ]
    },
    {
      "cell_type": "code",
      "execution_count": 24,
      "metadata": {
        "colab": {
          "base_uri": "https://localhost:8080/",
          "height": 89
        },
        "id": "TLzQwDjzPbnN",
        "outputId": "659ba7b3-ef6e-4291-f993-748eac31f650"
      },
      "outputs": [],
      "source": [
        "model = Sequential()\n",
        "model.add(Embedding(vocab_size, emending_length, input_length=lengt_sequence,weights=[embedding_matrix],trainable=True))\n",
        "model.add(LSTM(50, return_sequences=True))\n",
        "model.add(Attention(units=25))\n",
        "model.add(Dropout(0.3))\n",
        "model.add(Dense(16, activation='relu'))\n",
        "model.add(Dense(vocab_size, activation='softmax'))\n"
      ]
    },
    {
      "cell_type": "code",
      "execution_count": 25,
      "metadata": {
        "colab": {
          "base_uri": "https://localhost:8080/"
        },
        "id": "f0akXWkpPw-P",
        "outputId": "ae4033a2-1c7c-47ce-c18a-cce29fed5c7d"
      },
      "outputs": [
        {
          "name": "stdout",
          "output_type": "stream",
          "text": [
            "Model: \"sequential\"\n",
            "_________________________________________________________________\n",
            " Layer (type)                Output Shape              Param #   \n",
            "=================================================================\n",
            " embedding (Embedding)       (None, 3, 50)             1132400   \n",
            "                                                                 \n",
            " lstm (LSTM)                 (None, 3, 50)             20200     \n",
            "                                                                 \n",
            " attention (Attention)       (None, 25)                5000      \n",
            "                                                                 \n",
            " dropout (Dropout)           (None, 25)                0         \n",
            "                                                                 \n",
            " dense (Dense)               (None, 16)                416       \n",
            "                                                                 \n",
            " dense_1 (Dense)             (None, 22648)             385016    \n",
            "                                                                 \n",
            "=================================================================\n",
            "Total params: 1,543,032\n",
            "Trainable params: 1,543,032\n",
            "Non-trainable params: 0\n",
            "_________________________________________________________________\n"
          ]
        }
      ],
      "source": [
        "model.summary()"
      ]
    },
    {
      "cell_type": "markdown",
      "metadata": {
        "id": "U42LB08zXC_S"
      },
      "source": [
        "## callbacks"
      ]
    },
    {
      "cell_type": "code",
      "execution_count": 26,
      "metadata": {
        "id": "Qax_Eyr3XGRZ"
      },
      "outputs": [],
      "source": [
        "checkpoint_path=\"/content/drive/MyDrive/Colab Notebooks/tesi/next_word_prediction/saved_model/nextword1.h5\"\n",
        "checkpoint = tf.keras.callbacks.ModelCheckpoint(checkpoint_path, monitor='val_loss', verbose=1,\n",
        "    save_best_only=True, mode='auto')\n",
        "\n",
        "reduce_l = tf.keras.callbacks.ReduceLROnPlateau(monitor='val_loss', factor=0.2, patience=3, min_lr=0.0001, verbose = 1)\n",
        "\n",
        "logdir='logsnextword1'\n",
        "#tensorboard_Visualization = TensorBoard(log_dir=logdir)\n",
        "early_stop = tf.keras.callbacks.EarlyStopping(monitor='val_top3', patience=7, verbose=1,  mode=\"max\")\n",
        "top_k = tf.keras.metrics.SparseTopKCategoricalAccuracy(\n",
        "    k=3, name='top3', dtype=None\n",
        ")"
      ]
    },
    {
      "cell_type": "code",
      "execution_count": 27,
      "metadata": {},
      "outputs": [],
      "source": [
        "@tf.autograph.experimental.do_not_convert\n",
        "def pp(y_true, y_pred):\n",
        "    \"\"\"\n",
        "    The perplexity metric. Why isn't this part of Keras yet?!\n",
        "\n",
        "    BTW doesn't really work.\n",
        "    \"\"\"\n",
        "    cross_entropy = tf.keras.losses.sparse_categorical_crossentropy(y_true, y_pred)\n",
        "    perplexity = tf.pow(tf.constant([2.0]),-1*cross_entropy)\n",
        "    return perplexity"
      ]
    },
    {
      "cell_type": "code",
      "execution_count": 28,
      "metadata": {
        "id": "2i0lXG1jPysX"
      },
      "outputs": [],
      "source": [
        "optimizer=Adam(learning_rate=0.001) #tf.keras.optimizers.RMSprop()#\n",
        "model.compile(loss='sparse_categorical_crossentropy', optimizer=optimizer, metrics=['accuracy',top_k,pp])"
      ]
    },
    {
      "cell_type": "code",
      "execution_count": null,
      "metadata": {
        "colab": {
          "base_uri": "https://localhost:8080/"
        },
        "id": "ktZSt3eJP5f1",
        "outputId": "ed84d802-0148-4cb4-f1a3-f492fc336ecc"
      },
      "outputs": [],
      "source": [
        "batch_size= pow(2,8)\n",
        "print(batch_size)\n",
        "history = model.fit(X, y, validation_split=0.03, epochs=5, batch_size=batch_size,callbacks=[early_stop,reduce_l],shuffle=True)"
      ]
    },
    {
      "cell_type": "markdown",
      "metadata": {
        "id": "iCwA5qfoF6AQ"
      },
      "source": [
        "## plot the result\n"
      ]
    },
    {
      "cell_type": "code",
      "execution_count": null,
      "metadata": {
        "colab": {
          "base_uri": "https://localhost:8080/",
          "height": 450
        },
        "id": "s1XMLUBWGFm4",
        "outputId": "944c1af6-2ea5-49a1-915e-2620a4722bad"
      },
      "outputs": [
        {
          "data": {
            "image/png": "[encoded data removed]",
            "text/plain": [
              "<Figure size 1440x720 with 3 Axes>"
            ]
          },
          "metadata": {},
          "output_type": "display_data"
        }
      ],
      "source": [
        "fig, ax = plt.subplots(nrows=1, ncols=3,figsize=(20,10))\n",
        "ax[0].plot(history.history['loss'])\n",
        "ax[1].plot(history.history['top3'])\n",
        "ax[2].plot(history.history['accuracy'])\n",
        "ax[0].plot(history.history['val_loss'])\n",
        "ax[1].plot(history.history['val_top3'])\n",
        "ax[2].plot(history.history['val_accuracy'])\n",
        "ax[0].set_title('model loss')\n",
        "ax[1].set_title('model top3')\n",
        "ax[1].set_title('model accuracy')\n",
        "ax[0].set_ylabel('loss')\n",
        "ax[0].set_xlabel('epoch')\n",
        "ax[1].set_ylabel('top3')\n",
        "ax[1].set_xlabel('epoch')\n",
        "ax[2].set_ylabel('accuracy')\n",
        "ax[2].set_xlabel('epoch')\n",
        "fig.tight_layout(pad=10.0)\n",
        "plt.show()"
      ]
    },
    {
      "cell_type": "markdown",
      "metadata": {
        "id": "tiF6PvGaGIbg"
      },
      "source": [
        "#test"
      ]
    },
    {
      "cell_type": "code",
      "execution_count": null,
      "metadata": {
        "id": "ErzQk1lLGHxV"
      },
      "outputs": [
        {
          "data": {
            "text/plain": [
              "'model = load_model(checkpoint_path,custom_objects={\"crossentropy\": crossentropy, \"perplexity\":perplexity})\\nmodel.summary\\ntokenizer = pickle.load(open(\"/content/drive/MyDrive/Colab Notebooks/tesi/next_word_prediction/dataset/tokenization/tokenizer1.pkl\", \\'rb\\'))\\n'"
            ]
          },
          "execution_count": 103,
          "metadata": {},
          "output_type": "execute_result"
        }
      ],
      "source": [
        "# Importing the Libraries\n",
        "\n",
        "\n",
        "# Load the model and tokenizer\n",
        "#checkpoint_path=\"/content/drive/MyDrive/Colab Notebooks/tesi/next_word_prediction/saved_model/nextword1.h5\"\n",
        "\n",
        "\"\"\"model = load_model(checkpoint_path,custom_objects={\"crossentropy\": crossentropy, \"perplexity\":perplexity})\n",
        "model.summary\n",
        "tokenizer = pickle.load(open(\"/content/drive/MyDrive/Colab Notebooks/tesi/next_word_prediction/dataset/tokenization/tokenizer1.pkl\", 'rb'))\n",
        "\"\"\""
      ]
    },
    {
      "cell_type": "code",
      "execution_count": null,
      "metadata": {
        "id": "NT9WMRz9Gy0g"
      },
      "outputs": [],
      "source": [
        "def Predict_Next_3_Words(model, tokenizer, text):\n",
        "    \"\"\"\n",
        "        In this function we are using the tokenizer and models trained\n",
        "        and we are creating the sequence of the text entered and then\n",
        "        using our model to predict and return the the predicted word.\n",
        "    \n",
        "    \"\"\"\n",
        "    sequence = tokenizer.texts_to_sequences([text])\n",
        "    sequence[0] = sequence[0][-lengt_sequence:]\n",
        "    if len(sequence[0]) < lengt_sequence:\n",
        "      return \"no resutl\"\n",
        "    sequence = sequence[-lengt_sequence:]\n",
        "\n",
        "    for i in range(3):\n",
        "      print(\"i am thinking . . .\")\n",
        "      preds = model.predict(sequence)\n",
        "      predicted_word=\"\"\n",
        "      pred_l=preds[0]\n",
        "      ind = np.argpartition(pred_l, -3)[-3:]\n",
        "      pred_l = ind[np.argsort(pred_l[ind])]\n",
        "      pred_l = np.flip(pred_l, axis=None)\n",
        "      result = []\n",
        "      for ind in pred_l:\n",
        "        print(preds[0][ind])\n",
        "        predict = list(tokenizer.word_index.keys())[list(tokenizer.word_index.values()).index(ind)]\n",
        "        result.append(predict)\n",
        "      return result"
      ]
    },
    {
      "cell_type": "code",
      "execution_count": null,
      "metadata": {
        "id": "KFCqIriOG5mY"
      },
      "outputs": [
        {
          "data": {
            "text/plain": [
              "'text1 = \"i love to\"\\ntext = text1.split(\" \")\\nsequence = tokenizer.texts_to_sequences([text])\\nsequence[0] = sequence[0][-lengt_sequence:]\\nsequence = sequence[-lengt_sequence:]\\npreds = model.predict(sequence)\\npred_l=preds[0]\\nind = np.argpartition(pred_l, -3)[-3:]\\nprint(ind)\\nprint(pred_l[1])\\nprint(ind[np.argsort(pred_l[ind])])\\npred_l = ind[np.argsort(pred_l[ind])]\\npred_l = np.flip(pred_l, axis=None)\\nresult = []\\n\\nfor ind in pred_l:\\n  print(preds[0][ind])\\n  predict = list(tokenizer.word_index.keys())[list(tokenizer.word_index.values()).index(ind)]\\n  result.append(predict)\\nprint(result)\\np=Predict_Next_3_Words(model, tokenizer, text)'"
            ]
          },
          "execution_count": 105,
          "metadata": {},
          "output_type": "execute_result"
        }
      ],
      "source": [
        "\"\"\"text1 = \"i love to\"\n",
        "text = text1.split(\" \")\n",
        "sequence = tokenizer.texts_to_sequences([text])\n",
        "sequence[0] = sequence[0][-lengt_sequence:]\n",
        "sequence = sequence[-lengt_sequence:]\n",
        "preds = model.predict(sequence)\n",
        "pred_l=preds[0]\n",
        "ind = np.argpartition(pred_l, -3)[-3:]\n",
        "print(ind)\n",
        "print(pred_l[1])\n",
        "print(ind[np.argsort(pred_l[ind])])\n",
        "pred_l = ind[np.argsort(pred_l[ind])]\n",
        "pred_l = np.flip(pred_l, axis=None)\n",
        "result = []\n",
        "\n",
        "for ind in pred_l:\n",
        "  print(preds[0][ind])\n",
        "  predict = list(tokenizer.word_index.keys())[list(tokenizer.word_index.values()).index(ind)]\n",
        "  result.append(predict)\n",
        "print(result)\n",
        "p=Predict_Next_3_Words(model, tokenizer, text)\"\"\""
      ]
    },
    {
      "cell_type": "code",
      "execution_count": null,
      "metadata": {
        "id": "NovpALq5HNcN"
      },
      "outputs": [
        {
          "data": {
            "text/plain": [
              "'\\nwhile(make_test):\\n\\n    text = input(\"Enter your line: \")\\n    \\n    if text == \"stop\":\\n        print(\"Ending The Program.....\")\\n        break\\n    \\n    else:\\n        try:\\n            text = text.split(\" \")\\n            p=Predict_Next_3_Words(model, tokenizer, text)\\n            print(p)\\n        except NameError:\\n            print(NameError)\\n            continue'"
            ]
          },
          "execution_count": 106,
          "metadata": {},
          "output_type": "execute_result"
        }
      ],
      "source": [
        "\n",
        "\"\"\"\n",
        "while(make_test):\n",
        "\n",
        "    text = input(\"Enter your line: \")\n",
        "    \n",
        "    if text == \"stop\":\n",
        "        print(\"Ending The Program.....\")\n",
        "        break\n",
        "    \n",
        "    else:\n",
        "        try:\n",
        "            text = text.split(\" \")\n",
        "            p=Predict_Next_3_Words(model, tokenizer, text)\n",
        "            print(p)\n",
        "        except NameError:\n",
        "            print(NameError)\n",
        "            continue\"\"\""
      ]
    },
    {
      "cell_type": "markdown",
      "metadata": {
        "id": "N0dTbx9gHrIc"
      },
      "source": [
        "# Fedeteretd simulate"
      ]
    },
    {
      "cell_type": "markdown",
      "metadata": {
        "id": "eoo5Tl2pIB06"
      },
      "source": [
        "## Import"
      ]
    },
    {
      "cell_type": "code",
      "execution_count": null,
      "metadata": {
        "id": "RSjQIV7fIAkc"
      },
      "outputs": [],
      "source": [
        "\n",
        "# Make TensorFlow logs less verbose\n",
        "os.environ[\"TF_CPP_MIN_LOG_LEVEL\"] = \"1\""
      ]
    },
    {
      "cell_type": "markdown",
      "metadata": {
        "id": "23ufsv85IS3Z"
      },
      "source": [
        "# Create client fr flower "
      ]
    },
    {
      "cell_type": "code",
      "execution_count": null,
      "metadata": {
        "id": "AJB8P-igIEiv"
      },
      "outputs": [],
      "source": [
        "class NextWordPredictionClient(fl.client.NumPyClient):\n",
        "    def __init__(self, model_f, x_train, y_train, x_val, y_val) -> None:\n",
        "      self.model_f = model_f\n",
        "      self.x_train, self.y_train = x_train, y_train\n",
        "      self.x_val, self.y_val = x_val, y_val\n",
        "\n",
        "    def get_parameters(self):\n",
        "        return self.model_f.get_weights()\n",
        "\n",
        "    def fit(self, parameters, config):\n",
        "        self.model_f.set_weights(parameters)\n",
        "        self.model_f.fit(self.x_train,self.y_train, epochs=5, batch_size=64,verbose=2)\n",
        "        return self.model_f.get_weights(), len(X), {}\n",
        "\n",
        "    def evaluate(self, parameters, config):\n",
        "        self.model_f.set_weights(parameters)\n",
        "        loss, accuracy,top_3 = self.model_f.evaluate(self.x_val, self.y_val,verbose=2)\n",
        "        return loss, len(self.x_val), {\"val_loss\": loss, \"val_accuracy\":accuracy , \"val_top_3\": top_3}\n"
      ]
    },
    {
      "cell_type": "markdown",
      "metadata": {
        "id": "vsHkwwDFJIgN"
      },
      "source": [
        "## Implementation"
      ]
    },
    {
      "cell_type": "code",
      "execution_count": null,
      "metadata": {
        "id": "xZIhcuFPtxtK"
      },
      "outputs": [],
      "source": [
        "np.random.shuffle(sequences)"
      ]
    },
    {
      "cell_type": "code",
      "execution_count": null,
      "metadata": {
        "id": "w70lgsNdJHpS"
      },
      "outputs": [],
      "source": [
        "def client_fn(cid: str) -> fl.client.Client:\n",
        "  # Create model\n",
        "\n",
        "  top_k = tf.keras.metrics.SparseTopKCategoricalAccuracy(\n",
        "      k=3, name='top3', dtype=None\n",
        "  )\n",
        "  model = Sequential()\n",
        "  model.add(Embedding(vocab_size, emending_length, input_length=lengt_sequence,weights=[embedding_matrix],trainable=True))\n",
        "  model.add(LSTM(50, return_sequences=True))\n",
        "  model.add(Attention(units=25))\n",
        "  model.add(Dropout(0.3))\n",
        "  model.add(Dense(16, activation='relu'))\n",
        "  model.add(Dense(vocab_size, activation='softmax'))\n",
        "  \n",
        "  optimizer=Adam(learning_rate=0.001) #tf.keras.optimizers.RMSprop()#\n",
        "  model.compile(loss=perplexity, optimizer=optimizer, metrics=['accuracy',top_k])\n",
        "  \n",
        "  partition_size = math.floor(len(sequences) / (NUM_CLIENTS+1))\n",
        "  idx_from, idx_to = int(cid) * partition_size, (int(cid) + 1) * partition_size\n",
        "\n",
        "  X_f = []\n",
        "  y_f = []\n",
        "\n",
        "  for i in sequences[idx_from: idx_to]:\n",
        "      X_f.append(i[0:lengt_sequence])\n",
        "      y_f.append(i[-1])\n",
        "      \n",
        "  X_f = np.array(X_f)\n",
        "  y_f = np.array(y_f)\n",
        "\n",
        "\n",
        "  # Use 10% of the client's training data for validation\n",
        "  split_idx = math.floor(len(X_f) * 0.9)\n",
        "  x_train_cid, y_train_cid = X_f[:split_idx], y_f[:split_idx]\n",
        "  x_val_cid, y_val_cid = X_f[split_idx:], y_f[split_idx:]\n",
        "  # Create and return client\n",
        "  return NextWordPredictionClient(model, x_train_cid, y_train_cid, x_val_cid, y_val_cid)"
      ]
    },
    {
      "cell_type": "code",
      "execution_count": null,
      "metadata": {
        "id": "20cRKbvdLUEs"
      },
      "outputs": [],
      "source": [
        "def get_eval_fn(model):\n",
        "    \"\"\"Return an evaluation function for server-side evaluation.\"\"\"\n",
        "\n",
        "    def get_data():\n",
        "      partition_size = math.floor(len(sequences) / (NUM_CLIENTS+1))\n",
        "      idx_from, idx_to =  (NUM_CLIENTS+1) * partition_size, (NUM_CLIENTS+2) * partition_size\n",
        "\n",
        "      X_f = []\n",
        "      y_f = []\n",
        "\n",
        "      for i in sequences[idx_from: idx_to]:\n",
        "          X_f.append(i[0:lengt_sequence])\n",
        "          y_f.append(i[-1])\n",
        "          \n",
        "      X_f = np.array(X_f)\n",
        "      y_f = np.array(y_f)\n",
        "      return X_f,y_f\n",
        "\n",
        "    # The `evaluate` function will be called after every round\n",
        "    def evaluate(weights: fl.common.Weights):\n",
        "        model.set_weights(weights)  # Update model with the latest parameters\n",
        "        x_val, y_val = get_data()\n",
        "        loss, accuracy,top_3 = model.evaluate(x_val, y_val,verbose=2)\n",
        "        return loss, { \"loss\":loss,\"val_accuracy\":accuracy , \"val_top_3\": top_3}\n",
        "\n",
        "\n",
        "    return evaluate"
      ]
    },
    {
      "cell_type": "code",
      "execution_count": null,
      "metadata": {
        "id": "SxFivf_YnPEO"
      },
      "outputs": [],
      "source": [
        "class AggregateCustomMetricStrategy(fl.server.strategy.FedAvg):\n",
        "    def aggregate_evaluate(\n",
        "        self,\n",
        "        rnd: int,\n",
        "        results,\n",
        "        failures,\n",
        "    ) :\n",
        "        \"\"\"Aggregate evaluation losses using weighted average.\"\"\"\n",
        "        if not results:\n",
        "            return None\n",
        "        \n",
        "        loss,_ = super().aggregate_evaluate(rnd, results, failures)\n",
        "\n",
        "        # Weigh accuracy of each client by number of examples used\n",
        "        accuracies = [r.metrics[\"val_accuracy\"] * r.num_examples for _, r in results]\n",
        "        top_k = [r.metrics[\"val_top_3\"] * r.num_examples for _, r in results]\n",
        "        examples = [r.num_examples for _, r in results]\n",
        "\n",
        "        # Aggregate and print custom metric\n",
        "        accuracy_aggregated = sum(accuracies) / sum(examples)\n",
        "        top_k_grragated = sum(top_k) / sum(examples)\n",
        "        print(f\"Round {rnd} aggregated  from client results loss : {loss},accuracy : {accuracy_aggregated} , top_3: {top_k_grragated}\")\n",
        "\n",
        "        # Call aggregate_evaluate from base class (FedAvg)\n",
        "        return loss, {\"accuracy\":accuracy_aggregated,\"top_k\":top_k_grragated}"
      ]
    },
    {
      "cell_type": "code",
      "execution_count": null,
      "metadata": {
        "id": "f8_nycydKdvF"
      },
      "outputs": [],
      "source": [
        "#initial_parameters=model.get_weights()\n",
        "\n",
        "strategy=AggregateCustomMetricStrategy(\n",
        "        fraction_fit=0.05,  # Sample 10% of available clients for training\n",
        "        fraction_eval=0.02,  # Sample 5% of available clients for evaluation\n",
        "        min_fit_clients=2,  # Never sample less than 10 clients for training\n",
        "        min_eval_clients=2,  # Never sample less than 5 clients for evaluation\n",
        "        min_available_clients=int(NUM_CLIENTS * 0.75),  # Wait until at least 75 clients are available\n",
        "        #initial_parameters=fl.common.weights_to_parameters(model.get_weights()),\n",
        "        #fit_metrics_aggregation_fn =fit_metrics_aggregation_fn_custom\n",
        "        #eval_fn=get_eval_fn(model)\n",
        ")"
      ]
    },
    {
      "cell_type": "code",
      "execution_count": null,
      "metadata": {
        "colab": {
          "base_uri": "https://localhost:8080/"
        },
        "id": "HvqRxqCSKOxC",
        "outputId": "574c4661-96ac-4e16-eed4-b6d0e3fd803a"
      },
      "outputs": [],
      "source": [
        "import ray\n",
        "history_fede=fl.simulation.start_simulation(\n",
        "  client_fn=client_fn,\n",
        "  num_clients=NUM_CLIENTS,\n",
        "  strategy=strategy,\n",
        "  num_rounds=40,\n",
        "  ray_init_args={})"
      ]
    },
    {
      "cell_type": "code",
      "execution_count": null,
      "metadata": {
        "colab": {
          "base_uri": "https://localhost:8080/"
        },
        "id": "SeEcHxZ8iohC",
        "outputId": "7eb9384b-c13f-4c53-f18d-0d7219c1fb73"
      },
      "outputs": [
        {
          "ename": "OSError",
          "evalue": "[Errno 0] AssignProcessToJobObject() failed",
          "output_type": "error",
          "traceback": [
            "\u001b[1;31m---------------------------------------------------------------------------\u001b[0m",
            "\u001b[1;31mOSError\u001b[0m                                   Traceback (most recent call last)",
            "\u001b[1;32mc:\\Users\\Giuli\\Documents\\tesi\\federeted\\best_netxWord_prediction_final(1).ipynb Cell 61'\u001b[0m in \u001b[0;36m<module>\u001b[1;34m\u001b[0m\n\u001b[1;32m----> <a href='vscode-notebook-cell:/c%3A/Users/Giuli/Documents/tesi/federeted/best_netxWord_prediction_final%281%29.ipynb#ch0000060?line=0'>1</a>\u001b[0m ray\u001b[39m.\u001b[39;49minit()\n",
            "File \u001b[1;32m~\\AppData\\Local\\Packages\\PythonSoftwareFoundation.Python.3.9_qbz5n2kfra8p0\\LocalCache\\local-packages\\Python39\\site-packages\\ray\\_private\\client_mode_hook.py:105\u001b[0m, in \u001b[0;36mclient_mode_hook.<locals>.wrapper\u001b[1;34m(*args, **kwargs)\u001b[0m\n\u001b[0;32m    103\u001b[0m     \u001b[39mif\u001b[39;00m func\u001b[39m.\u001b[39m\u001b[39m__name__\u001b[39m \u001b[39m!=\u001b[39m \u001b[39m\"\u001b[39m\u001b[39minit\u001b[39m\u001b[39m\"\u001b[39m \u001b[39mor\u001b[39;00m is_client_mode_enabled_by_default:\n\u001b[0;32m    104\u001b[0m         \u001b[39mreturn\u001b[39;00m \u001b[39mgetattr\u001b[39m(ray, func\u001b[39m.\u001b[39m\u001b[39m__name__\u001b[39m)(\u001b[39m*\u001b[39margs, \u001b[39m*\u001b[39m\u001b[39m*\u001b[39mkwargs)\n\u001b[1;32m--> 105\u001b[0m \u001b[39mreturn\u001b[39;00m func(\u001b[39m*\u001b[39margs, \u001b[39m*\u001b[39m\u001b[39m*\u001b[39mkwargs)\n",
            "File \u001b[1;32m~\\AppData\\Local\\Packages\\PythonSoftwareFoundation.Python.3.9_qbz5n2kfra8p0\\LocalCache\\local-packages\\Python39\\site-packages\\ray\\worker.py:1039\u001b[0m, in \u001b[0;36minit\u001b[1;34m(address, num_cpus, num_gpus, resources, object_store_memory, local_mode, ignore_reinit_error, include_dashboard, dashboard_host, dashboard_port, job_config, configure_logging, logging_level, logging_format, log_to_driver, namespace, runtime_env, storage, _enable_object_reconstruction, _redis_max_memory, _plasma_directory, _node_ip_address, _driver_object_store_memory, _memory, _redis_password, _temp_dir, _metrics_export_port, _system_config, _tracing_startup_hook, _node_name, **kwargs)\u001b[0m\n\u001b[0;32m    997\u001b[0m     ray_params \u001b[39m=\u001b[39m ray\u001b[39m.\u001b[39m_private\u001b[39m.\u001b[39mparameter\u001b[39m.\u001b[39mRayParams(\n\u001b[0;32m    998\u001b[0m         node_ip_address\u001b[39m=\u001b[39mnode_ip_address,\n\u001b[0;32m    999\u001b[0m         raylet_ip_address\u001b[39m=\u001b[39mraylet_ip_address,\n\u001b[1;32m   (...)\u001b[0m\n\u001b[0;32m   1033\u001b[0m         node_name\u001b[39m=\u001b[39m_node_name,\n\u001b[0;32m   1034\u001b[0m     )\n\u001b[0;32m   1035\u001b[0m     \u001b[39m# Start the Ray processes. We set shutdown_at_exit=False because we\u001b[39;00m\n\u001b[0;32m   1036\u001b[0m     \u001b[39m# shutdown the node in the ray.shutdown call that happens in the atexit\u001b[39;00m\n\u001b[0;32m   1037\u001b[0m     \u001b[39m# handler. We still spawn a reaper process in case the atexit handler\u001b[39;00m\n\u001b[0;32m   1038\u001b[0m     \u001b[39m# isn't called.\u001b[39;00m\n\u001b[1;32m-> 1039\u001b[0m     _global_node \u001b[39m=\u001b[39m ray\u001b[39m.\u001b[39;49mnode\u001b[39m.\u001b[39;49mNode(\n\u001b[0;32m   1040\u001b[0m         head\u001b[39m=\u001b[39;49m\u001b[39mTrue\u001b[39;49;00m, shutdown_at_exit\u001b[39m=\u001b[39;49m\u001b[39mFalse\u001b[39;49;00m, spawn_reaper\u001b[39m=\u001b[39;49m\u001b[39mTrue\u001b[39;49;00m, ray_params\u001b[39m=\u001b[39;49mray_params\n\u001b[0;32m   1041\u001b[0m     )\n\u001b[0;32m   1042\u001b[0m \u001b[39melse\u001b[39;00m:\n\u001b[0;32m   1043\u001b[0m     \u001b[39m# In this case, we are connecting to an existing cluster.\u001b[39;00m\n\u001b[0;32m   1044\u001b[0m     \u001b[39mif\u001b[39;00m num_cpus \u001b[39mis\u001b[39;00m \u001b[39mnot\u001b[39;00m \u001b[39mNone\u001b[39;00m \u001b[39mor\u001b[39;00m num_gpus \u001b[39mis\u001b[39;00m \u001b[39mnot\u001b[39;00m \u001b[39mNone\u001b[39;00m:\n",
            "File \u001b[1;32m~\\AppData\\Local\\Packages\\PythonSoftwareFoundation.Python.3.9_qbz5n2kfra8p0\\LocalCache\\local-packages\\Python39\\site-packages\\ray\\node.py:269\u001b[0m, in \u001b[0;36mNode.__init__\u001b[1;34m(self, ray_params, head, shutdown_at_exit, spawn_reaper, connect_only)\u001b[0m\n\u001b[0;32m    267\u001b[0m \u001b[39m# Start processes.\u001b[39;00m\n\u001b[0;32m    268\u001b[0m \u001b[39mif\u001b[39;00m head:\n\u001b[1;32m--> 269\u001b[0m     \u001b[39mself\u001b[39;49m\u001b[39m.\u001b[39;49mstart_head_processes()\n\u001b[0;32m    270\u001b[0m     \u001b[39m# Make sure GCS is up.\u001b[39;00m\n\u001b[0;32m    271\u001b[0m     \u001b[39mself\u001b[39m\u001b[39m.\u001b[39mget_gcs_client()\u001b[39m.\u001b[39minternal_kv_put(\n\u001b[0;32m    272\u001b[0m         \u001b[39mb\u001b[39m\u001b[39m\"\u001b[39m\u001b[39msession_name\u001b[39m\u001b[39m\"\u001b[39m,\n\u001b[0;32m    273\u001b[0m         \u001b[39mself\u001b[39m\u001b[39m.\u001b[39msession_name\u001b[39m.\u001b[39mencode(),\n\u001b[0;32m    274\u001b[0m         \u001b[39mTrue\u001b[39;00m,\n\u001b[0;32m    275\u001b[0m         ray_constants\u001b[39m.\u001b[39mKV_NAMESPACE_SESSION,\n\u001b[0;32m    276\u001b[0m     )\n",
            "File \u001b[1;32m~\\AppData\\Local\\Packages\\PythonSoftwareFoundation.Python.3.9_qbz5n2kfra8p0\\LocalCache\\local-packages\\Python39\\site-packages\\ray\\node.py:1085\u001b[0m, in \u001b[0;36mNode.start_head_processes\u001b[1;34m(self)\u001b[0m\n\u001b[0;32m   1082\u001b[0m \u001b[39mself\u001b[39m\u001b[39m.\u001b[39m_write_cluster_info_to_kv()\n\u001b[0;32m   1084\u001b[0m \u001b[39mif\u001b[39;00m \u001b[39mnot\u001b[39;00m \u001b[39mself\u001b[39m\u001b[39m.\u001b[39m_ray_params\u001b[39m.\u001b[39mno_monitor:\n\u001b[1;32m-> 1085\u001b[0m     \u001b[39mself\u001b[39;49m\u001b[39m.\u001b[39;49mstart_monitor()\n\u001b[0;32m   1087\u001b[0m \u001b[39mif\u001b[39;00m \u001b[39mself\u001b[39m\u001b[39m.\u001b[39m_ray_params\u001b[39m.\u001b[39mray_client_server_port:\n\u001b[0;32m   1088\u001b[0m     \u001b[39mself\u001b[39m\u001b[39m.\u001b[39mstart_ray_client_server()\n",
            "File \u001b[1;32m~\\AppData\\Local\\Packages\\PythonSoftwareFoundation.Python.3.9_qbz5n2kfra8p0\\LocalCache\\local-packages\\Python39\\site-packages\\ray\\node.py:1015\u001b[0m, in \u001b[0;36mNode.start_monitor\u001b[1;34m(self)\u001b[0m\n\u001b[0;32m   1008\u001b[0m \u001b[39m\"\"\"Start the monitor.\u001b[39;00m\n\u001b[0;32m   1009\u001b[0m \n\u001b[0;32m   1010\u001b[0m \u001b[39mAutoscaling output goes to these monitor.err/out files, and\u001b[39;00m\n\u001b[0;32m   1011\u001b[0m \u001b[39many modification to these files may break existing\u001b[39;00m\n\u001b[0;32m   1012\u001b[0m \u001b[39mcluster launching commands.\u001b[39;00m\n\u001b[0;32m   1013\u001b[0m \u001b[39m\"\"\"\u001b[39;00m\n\u001b[0;32m   1014\u001b[0m stdout_file, stderr_file \u001b[39m=\u001b[39m \u001b[39mself\u001b[39m\u001b[39m.\u001b[39mget_log_file_handles(\u001b[39m\"\u001b[39m\u001b[39mmonitor\u001b[39m\u001b[39m\"\u001b[39m, unique\u001b[39m=\u001b[39m\u001b[39mTrue\u001b[39;00m)\n\u001b[1;32m-> 1015\u001b[0m process_info \u001b[39m=\u001b[39m ray\u001b[39m.\u001b[39;49m_private\u001b[39m.\u001b[39;49mservices\u001b[39m.\u001b[39;49mstart_monitor(\n\u001b[0;32m   1016\u001b[0m     \u001b[39mself\u001b[39;49m\u001b[39m.\u001b[39;49mredis_address,\n\u001b[0;32m   1017\u001b[0m     \u001b[39mself\u001b[39;49m\u001b[39m.\u001b[39;49mgcs_address,\n\u001b[0;32m   1018\u001b[0m     \u001b[39mself\u001b[39;49m\u001b[39m.\u001b[39;49m_logs_dir,\n\u001b[0;32m   1019\u001b[0m     stdout_file\u001b[39m=\u001b[39;49mstdout_file,\n\u001b[0;32m   1020\u001b[0m     stderr_file\u001b[39m=\u001b[39;49mstderr_file,\n\u001b[0;32m   1021\u001b[0m     autoscaling_config\u001b[39m=\u001b[39;49m\u001b[39mself\u001b[39;49m\u001b[39m.\u001b[39;49m_ray_params\u001b[39m.\u001b[39;49mautoscaling_config,\n\u001b[0;32m   1022\u001b[0m     redis_password\u001b[39m=\u001b[39;49m\u001b[39mself\u001b[39;49m\u001b[39m.\u001b[39;49m_ray_params\u001b[39m.\u001b[39;49mredis_password,\n\u001b[0;32m   1023\u001b[0m     fate_share\u001b[39m=\u001b[39;49m\u001b[39mself\u001b[39;49m\u001b[39m.\u001b[39;49mkernel_fate_share,\n\u001b[0;32m   1024\u001b[0m     max_bytes\u001b[39m=\u001b[39;49m\u001b[39mself\u001b[39;49m\u001b[39m.\u001b[39;49mmax_bytes,\n\u001b[0;32m   1025\u001b[0m     backup_count\u001b[39m=\u001b[39;49m\u001b[39mself\u001b[39;49m\u001b[39m.\u001b[39;49mbackup_count,\n\u001b[0;32m   1026\u001b[0m     monitor_ip\u001b[39m=\u001b[39;49m\u001b[39mself\u001b[39;49m\u001b[39m.\u001b[39;49m_node_ip_address,\n\u001b[0;32m   1027\u001b[0m )\n\u001b[0;32m   1028\u001b[0m \u001b[39massert\u001b[39;00m ray_constants\u001b[39m.\u001b[39mPROCESS_TYPE_MONITOR \u001b[39mnot\u001b[39;00m \u001b[39min\u001b[39;00m \u001b[39mself\u001b[39m\u001b[39m.\u001b[39mall_processes\n\u001b[0;32m   1029\u001b[0m \u001b[39mself\u001b[39m\u001b[39m.\u001b[39mall_processes[ray_constants\u001b[39m.\u001b[39mPROCESS_TYPE_MONITOR] \u001b[39m=\u001b[39m [process_info]\n",
            "File \u001b[1;32m~\\AppData\\Local\\Packages\\PythonSoftwareFoundation.Python.3.9_qbz5n2kfra8p0\\LocalCache\\local-packages\\Python39\\site-packages\\ray\\_private\\services.py:2141\u001b[0m, in \u001b[0;36mstart_monitor\u001b[1;34m(redis_address, gcs_address, logs_dir, stdout_file, stderr_file, autoscaling_config, redis_password, fate_share, max_bytes, backup_count, monitor_ip)\u001b[0m\n\u001b[0;32m   2139\u001b[0m \u001b[39mif\u001b[39;00m monitor_ip:\n\u001b[0;32m   2140\u001b[0m     command\u001b[39m.\u001b[39mappend(\u001b[39m\"\u001b[39m\u001b[39m--monitor-ip=\u001b[39m\u001b[39m\"\u001b[39m \u001b[39m+\u001b[39m monitor_ip)\n\u001b[1;32m-> 2141\u001b[0m process_info \u001b[39m=\u001b[39m start_ray_process(\n\u001b[0;32m   2142\u001b[0m     command,\n\u001b[0;32m   2143\u001b[0m     ray_constants\u001b[39m.\u001b[39;49mPROCESS_TYPE_MONITOR,\n\u001b[0;32m   2144\u001b[0m     stdout_file\u001b[39m=\u001b[39;49mstdout_file,\n\u001b[0;32m   2145\u001b[0m     stderr_file\u001b[39m=\u001b[39;49mstderr_file,\n\u001b[0;32m   2146\u001b[0m     fate_share\u001b[39m=\u001b[39;49mfate_share,\n\u001b[0;32m   2147\u001b[0m )\n\u001b[0;32m   2148\u001b[0m \u001b[39mreturn\u001b[39;00m process_info\n",
            "File \u001b[1;32m~\\AppData\\Local\\Packages\\PythonSoftwareFoundation.Python.3.9_qbz5n2kfra8p0\\LocalCache\\local-packages\\Python39\\site-packages\\ray\\_private\\services.py:788\u001b[0m, in \u001b[0;36mstart_ray_process\u001b[1;34m(command, process_type, fate_share, env_updates, cwd, use_valgrind, use_gdb, use_valgrind_profiler, use_perftools_profiler, use_tmux, stdout_file, stderr_file, pipe_stdin)\u001b[0m\n\u001b[0;32m    786\u001b[0m \u001b[39mif\u001b[39;00m win32_fate_sharing:\n\u001b[0;32m    787\u001b[0m     \u001b[39mtry\u001b[39;00m:\n\u001b[1;32m--> 788\u001b[0m         ray\u001b[39m.\u001b[39;49m_private\u001b[39m.\u001b[39;49mutils\u001b[39m.\u001b[39;49mset_kill_child_on_death_win32(process)\n\u001b[0;32m    789\u001b[0m         psutil\u001b[39m.\u001b[39mProcess(process\u001b[39m.\u001b[39mpid)\u001b[39m.\u001b[39mresume()\n\u001b[0;32m    790\u001b[0m     \u001b[39mexcept\u001b[39;00m (psutil\u001b[39m.\u001b[39mError, \u001b[39mOSError\u001b[39;00m):\n",
            "File \u001b[1;32m~\\AppData\\Local\\Packages\\PythonSoftwareFoundation.Python.3.9_qbz5n2kfra8p0\\LocalCache\\local-packages\\Python39\\site-packages\\ray\\_private\\utils.py:804\u001b[0m, in \u001b[0;36mset_kill_child_on_death_win32\u001b[1;34m(child_proc)\u001b[0m\n\u001b[0;32m    801\u001b[0m     \u001b[39mif\u001b[39;00m \u001b[39mnot\u001b[39;00m win32_AssignProcessToJobObject(win32_job, \u001b[39mint\u001b[39m(child_proc)):\n\u001b[0;32m    802\u001b[0m         \u001b[39mimport\u001b[39;00m \u001b[39mctypes\u001b[39;00m\n\u001b[1;32m--> 804\u001b[0m         \u001b[39mraise\u001b[39;00m \u001b[39mOSError\u001b[39;00m(ctypes\u001b[39m.\u001b[39mget_last_error(), \u001b[39m\"\u001b[39m\u001b[39mAssignProcessToJobObject() failed\u001b[39m\u001b[39m\"\u001b[39m)\n\u001b[0;32m    805\u001b[0m \u001b[39melse\u001b[39;00m:\n\u001b[0;32m    806\u001b[0m     \u001b[39massert\u001b[39;00m \u001b[39mFalse\u001b[39;00m, \u001b[39m\"\u001b[39m\u001b[39mAssignProcessToJobObject used despite being unavailable\u001b[39m\u001b[39m\"\u001b[39m\n",
            "\u001b[1;31mOSError\u001b[0m: [Errno 0] AssignProcessToJobObject() failed"
          ]
        }
      ],
      "source": [
        "ray.init()"
      ]
    },
    {
      "cell_type": "markdown",
      "metadata": {
        "id": "na7O0k2lGBXP"
      },
      "source": []
    },
    {
      "cell_type": "code",
      "execution_count": null,
      "metadata": {
        "colab": {
          "base_uri": "https://localhost:8080/",
          "height": 450
        },
        "id": "aBCZJIcftiXr",
        "outputId": "d29e1675-7259-4f2c-eb9a-19e87fb3a640"
      },
      "outputs": [],
      "source": [
        "fig, ax = plt.subplots(nrows=1, ncols=3,figsize=(20,10))\n",
        "ax[0].plot(*zip(*history_fede.losses_distributed))\n",
        "ax[1].plot(*zip(*history_fede.metrics_distributed['top_k']))\n",
        "ax[2].plot(*zip(*history_fede.metrics_distributed['accuracy']))\n",
        "ax[0].set_title('model loss')\n",
        "ax[1].set_title('model top3')\n",
        "ax[2].set_title('model accuracy')\n",
        "ax[0].set_ylabel('loss')\n",
        "ax[0].set_xlabel('round')\n",
        "ax[1].set_ylabel('top3')\n",
        "ax[1].set_xlabel('round')\n",
        "ax[2].set_ylabel('accuracy')\n",
        "ax[2].set_xlabel('round')\n",
        "fig.tight_layout(pad=10.0)\n",
        "plt.show()"
      ]
    }
  ],
  "metadata": {
    "accelerator": "GPU",
    "colab": {
      "collapsed_sections": [
        "tiF6PvGaGIbg"
      ],
      "name": "best netxWord_prediction_final.ipynb",
      "provenance": [],
      "toc_visible": true
    },
    "kernelspec": {
      "display_name": "Python 3.9.13 64-bit (windows store)",
      "language": "python",
      "name": "python3"
    },
    "language_info": {
      "codemirror_mode": {
        "name": "ipython",
        "version": 3
      },
      "file_extension": ".py",
      "mimetype": "text/x-python",
      "name": "python",
      "nbconvert_exporter": "python",
      "pygments_lexer": "ipython3",
      "version": "3.9.13"
    },
    "vscode": {
      "interpreter": {
        "hash": "d52810c3f7e93c00ba2a097f8f5571973362d1c009c29f7e0d4a883f26d38267"
      }
    }
  },
  "nbformat": 4,
  "nbformat_minor": 0
}
